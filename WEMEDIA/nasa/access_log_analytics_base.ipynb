{
 "cells": [
  {
   "cell_type": "markdown",
   "metadata": {},
   "source": [
    "# Please prepare a script (any script language executable on Linux in AWS environment) to\n",
    "- Count the total number of HTTP requests recorded by this access logfile\n",
    "- Find the top-10 (host) hosts makes most requests from 18th Aug to 20th Aug\n",
    "- Find out the country with most requests originating from (according the source host / IP)"
   ]
  },
  {
   "cell_type": "code",
   "execution_count": 152,
   "metadata": {
    "collapsed": true
   },
   "outputs": [],
   "source": [
    "import re\n",
    "from datetime import datetime\n",
    "import socket\n",
    "import requests"
   ]
  },
  {
   "cell_type": "code",
   "execution_count": 155,
   "metadata": {
    "collapsed": false
   },
   "outputs": [
    {
     "data": {
      "text/plain": [
       "{'133.43.96.45': 11,\n",
       " '133.68.18.180': 6,\n",
       " '139.230.35.135': 1,\n",
       " '205.163.36.61': 4,\n",
       " 'd0ucr6.fnal.gov': 2,\n",
       " 'endeavor.fujitsu.co.jp': 1,\n",
       " 'haraway.ucet.ufl.edu': 3,\n",
       " 'in24.inetnebr.com': 5,\n",
       " 'ip-pdx6-54.teleport.com': 3,\n",
       " 'ix-esc-ca2-07.ix.netcom.com': 6,\n",
       " 'kgtyk4.kj.yamagata-u.ac.jp': 6,\n",
       " 'piweba4y.prodigy.com': 7,\n",
       " 'rpgopher.aist.go.jp': 4,\n",
       " 'slppp6.intermind.net': 6,\n",
       " 'uplherc.upl.com': 22,\n",
       " 'www-c3.proxy.aol.com': 4,\n",
       " 'www-c8.proxy.aol.com': 1,\n",
       " 'www-d3.proxy.aol.com': 7,\n",
       " 'www-d4.proxy.aol.com': 1}"
      ]
     },
     "execution_count": 155,
     "metadata": {},
     "output_type": "execute_result"
    }
   ],
   "source": [
    "file = './access_log_Aug95_short'\n",
    "fhand = open(file)\n",
    "\n",
    "count = 0\n",
    "requests = {}\n",
    "for line in fhand:\n",
    "    count += 1\n",
    "    host = re.findall('^\\S+', line)[0]\n",
    "    timestamp = datetime.strptime(re.findall('\\[(.+?):', line)[0], '%d/%b/%Y')\n",
    "    #print(host, timestamp)\n",
    "    if '1995-08-18' <= datetime.strftime(timestamp, '%Y-%m-%d') <= '1995-08-20':\n",
    "        requests[host] = requests.get(host, 0) + 1\n",
    "\n",
    "requests"
   ]
  },
  {
   "cell_type": "code",
   "execution_count": 156,
   "metadata": {
    "collapsed": false
   },
   "outputs": [
    {
     "name": "stdout",
     "output_type": "stream",
     "text": [
      "the total number of HTTP requests recorded by this access logfile is 100\n"
     ]
    }
   ],
   "source": [
    "# Count the total number of HTTP requests recorded by this access logfile\n",
    "print('the total number of HTTP requests recorded by this access logfile is %i' % count)"
   ]
  },
  {
   "cell_type": "code",
   "execution_count": 161,
   "metadata": {
    "collapsed": false
   },
   "outputs": [
    {
     "name": "stdout",
     "output_type": "stream",
     "text": [
      "uplherc.upl.com 22\n",
      "133.43.96.45 11\n",
      "www-d3.proxy.aol.com 7\n",
      "piweba4y.prodigy.com 7\n",
      "slppp6.intermind.net 6\n",
      "kgtyk4.kj.yamagata-u.ac.jp 6\n",
      "ix-esc-ca2-07.ix.netcom.com 6\n",
      "133.68.18.180 6\n",
      "in24.inetnebr.com 5\n",
      "www-c3.proxy.aol.com 4\n"
     ]
    }
   ],
   "source": [
    "# Find the top-10 (host) hosts makes most requests from 18th Aug to 20th Aug\n",
    "t = []\n",
    "for (k, v) in requests.items():\n",
    "    t.append((v, k))\n",
    "    \n",
    "t.sort(reverse=True)\n",
    "for (v, k) in t[0:10]:\n",
    "    print(k, v)"
   ]
  },
  {
   "cell_type": "code",
   "execution_count": 144,
   "metadata": {
    "collapsed": false
   },
   "outputs": [
    {
     "data": {
      "text/plain": [
       "'JP'"
      ]
     },
     "execution_count": 144,
     "metadata": {},
     "output_type": "execute_result"
    }
   ],
   "source": [
    "# Find out the country with most requests originating from (according the source host / IP)\n",
    "top_host = t[0][1]\n",
    "top_ip = socket.gethostbyname(top_host)\n",
    "ip = top_ip\n",
    "r = requests.get('http://ipinfo.io/%s/json' % ip)\n",
    "r.json()['country']"
   ]
  }
 ],
 "metadata": {
  "kernelspec": {
   "display_name": "Python 3",
   "language": "python",
   "name": "python3"
  },
  "language_info": {
   "codemirror_mode": {
    "name": "ipython",
    "version": 3
   },
   "file_extension": ".py",
   "mimetype": "text/x-python",
   "name": "python",
   "nbconvert_exporter": "python",
   "pygments_lexer": "ipython3",
   "version": "3.6.0"
  }
 },
 "nbformat": 4,
 "nbformat_minor": 2
}
